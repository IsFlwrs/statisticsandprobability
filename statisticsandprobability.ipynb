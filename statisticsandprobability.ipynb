{
 "cells": [
  {
   "cell_type": "code",
   "execution_count": 1,
   "metadata": {},
   "outputs": [
    {
     "data": {
      "text/html": [
       "<script>\n",
       "code_show=true; \n",
       "function code_toggle() {\n",
       " if (code_show){\n",
       " $('div.input').hide();\n",
       " } else {\n",
       " $('div.input').show();\n",
       " }\n",
       " code_show = !code_show\n",
       "} \n",
       "$( document ).ready(code_toggle);\n",
       "</script>\n",
       "<form action=\"javascript:code_toggle()\"><input type=\"submit\" value=\"Código Fuente\"></form>"
      ],
      "text/plain": [
       "<IPython.core.display.HTML object>"
      ]
     },
     "execution_count": 1,
     "metadata": {},
     "output_type": "execute_result"
    }
   ],
   "source": [
    "from functools import reduce\n",
    "from IPython.display import display\n",
    "import ipywidgets as widgets\n",
    "from IPython.display import clear_output\n",
    "from IPython.display import HTML\n",
    "\n",
    "HTML('''<script>\n",
    "code_show=true; \n",
    "function code_toggle() {\n",
    " if (code_show){\n",
    " $('div.input').hide();\n",
    " } else {\n",
    " $('div.input').show();\n",
    " }\n",
    " code_show = !code_show\n",
    "} \n",
    "$( document ).ready(code_toggle);\n",
    "</script>\n",
    "<form action=\"javascript:code_toggle()\"><input type=\"submit\" value=\"Código Fuente\"></form>''')"
   ]
  },
  {
   "cell_type": "code",
   "execution_count": 2,
   "metadata": {},
   "outputs": [],
   "source": [
    "# Factorial Notation\n",
    "def factorial(n): return reduce(lambda x,y: x*y, range(1,n+1) )\n",
    "\n",
    "\n",
    "# Circular Permutation\n",
    "def circular_permutation(n): return factorial(n-1)\n",
    "\n",
    "# Permutation of different objects taken from r in r\n",
    "def permutation_different_objects_taken_r_in_r(n, r): return factorial(n) / factorial(n-r)\n",
    "\n",
    "# Permutations with repetition of n elemntos taken from r to r\n",
    "def permutation_different_objects_taken_r_in_r_with_repetition(elements, values): \n",
    "    return factorial(elements) / (reduce(lambda x,y: x*y, values))\n",
    "\n",
    "# Multiplicative Principle\n",
    "def multiplicative_principle(n_array): return reduce(lambda x,y: x*y, n_array)\n",
    "\n",
    "# Combinations\n",
    "def combination(n, r): return factorial(n) / (factorial(n-r) * factorial(r))\n",
    "\n",
    "# Classic Probability Approach\n",
    "def classic_probability_approach(total_of_events, times_event_occurs): return times_event_occurs / total_of_events\n",
    "\n",
    "# Empirical Probability Approach\n",
    "def empirical_probability_approach(total_of_events, times_event_occurs): return times_event_occurs / total_of_events\n",
    "\n",
    "# General addition rule\n",
    "def general_addition_rule(a_probability, b_probability, a_n_b_probability): return a_probability + b_probability - a_n_b_probability\n",
    "\n",
    "# Conditional Probability\n",
    "def conditional_probability(b_probability, a_n_b_probability): return a_n_b_probability / b_probability\n",
    "\n",
    "# General multiplication rule\n",
    "def general_multiplication_rule(a_l_b_probability, b_probability): return b_probability * a_l_b_probability\n",
    "\n",
    "# Total probability\n",
    "def total_probability(): pass\n",
    "\n",
    "# Bayes Theorem\n",
    "def bayes_theorem(a_probability, b_probability, a_l_b_probability): return (a_probability * a_l_b_probability) / b_probability\n",
    "\n",
    "# Mode\n",
    "def mode(): pass\n",
    "\n",
    "# Mean\n",
    "def mean(): pass\n",
    "\n",
    "# Median\n",
    "def median(): pass\n",
    "\n",
    "# Range\n",
    "# def range(): pass\n",
    "\n",
    "# Variance\n",
    "def variance(): pass\n",
    "\n",
    "# Standar Deviation\n",
    "def standar_deviation(): pass\n",
    "\n",
    "# Variation Coefficient\n",
    "def variation_coefficient(): pass\n",
    "\n",
    "# Frequency table"
   ]
  },
  {
   "cell_type": "markdown",
   "metadata": {
    "hide_input": true
   },
   "source": [
    "# Probabilidad y Estadística\n",
    "\n",
    "* [Notación Factorial](#factorialNotation)\n",
    "* [Permutación Circular](#circularPermutation)\n",
    "* [Permutación de Objetos distintos tomados de r en r](#permuationRinR)\n",
    "* [Permutaciones con repetición de n elemntos tomados de r en r](#permuationRinRwithRepetition)\n",
    "* [Principio Multiplicativo](#multiplicativePrinciple)\n",
    "* [Combinaciones](#combination)\n",
    "* [Enfoque de probablidad clásico](#classicProbabilityApproach)\n",
    "* [Enfoque de probablidad empírico](#empiricalProbabilityApproach)\n",
    "* [Regla general de adición](#generalRuleofAddition)\n",
    "* [Probabilidad condicional](#conditionalProbability)\n",
    "* [Regla general de multiplicación](#generalRuleofMultiplication)\n",
    "* [Probabilidad total](#totalProbability)\n",
    "* [Teorema de Bayes](#bayesTheorem)\n",
    "\n",
    "## Medidas de tendencia central para datos no agrupados\n",
    "* [Moda](#mode)\n",
    "* [Media](#mean)\n",
    "* [Mediana](#median)\n",
    "\n",
    "## Medidas de dispersión\n",
    "* [Rango](#range)\n",
    "* [Varianza](#variance)\n",
    "* [Desviación estándar](#standardDeviation)\n",
    "* [Coeficiente de variación](#coefficientofVariation)\n",
    "\n",
    "## Tabla de frecuencias\n"
   ]
  },
  {
   "cell_type": "markdown",
   "metadata": {},
   "source": [
    "<div id='factorialNotation'></div>\n",
    "### Notación Factorial"
   ]
  },
  {
   "cell_type": "code",
   "execution_count": 3,
   "metadata": {
    "hide_input": false,
    "scrolled": false
   },
   "outputs": [
    {
     "data": {
      "application/vnd.jupyter.widget-view+json": {
       "model_id": "ea75ada4fb184d5c8e7b94815af33142",
       "version_major": 2,
       "version_minor": 0
      },
      "text/html": [
       "<p>Failed to display Jupyter Widget of type <code>HBox</code>.</p>\n",
       "<p>\n",
       "  If you're reading this message in the Jupyter Notebook or JupyterLab Notebook, it may mean\n",
       "  that the widgets JavaScript is still loading. If this message persists, it\n",
       "  likely means that the widgets JavaScript library is either not installed or\n",
       "  not enabled. See the <a href=\"https://ipywidgets.readthedocs.io/en/stable/user_install.html\">Jupyter\n",
       "  Widgets Documentation</a> for setup instructions.\n",
       "</p>\n",
       "<p>\n",
       "  If you're reading this message in another frontend (for example, a static\n",
       "  rendering on GitHub or <a href=\"https://nbviewer.jupyter.org/\">NBViewer</a>),\n",
       "  it may mean that your frontend doesn't currently support widgets.\n",
       "</p>\n"
      ],
      "text/plain": [
       "HBox(children=(BoundedIntText(value=1, description='Factorial:', min=1), Button(description='Calcular', style=ButtonStyle())))"
      ]
     },
     "metadata": {},
     "output_type": "display_data"
    }
   ],
   "source": [
    "factorial_button = widgets.Button(description = 'Calcular')\n",
    "factorial_input = widgets.BoundedIntText(\n",
    "    value=1,\n",
    "    min=1,\n",
    "    max=100,\n",
    "    step=1,\n",
    "    description='Factorial:',\n",
    "    disabled=False,\n",
    ")\n",
    "def on_factorial_clicked(event):\n",
    "    clear_output(wait=True)\n",
    "    display(widgets.HBox((factorial_input, factorial_button)))\n",
    "    print('Factorial de {} es: {}'.format(factorial_input.value, factorial(factorial_input.value)))\n",
    "    \n",
    "factorial_button.on_click(on_factorial_clicked)\n",
    "display(widgets.HBox((factorial_input, factorial_button)))\n"
   ]
  },
  {
   "cell_type": "markdown",
   "metadata": {},
   "source": [
    "<div id='circularPermutation'></div>\n",
    "### Permutación Circular"
   ]
  },
  {
   "cell_type": "code",
   "execution_count": 4,
   "metadata": {},
   "outputs": [
    {
     "data": {
      "application/vnd.jupyter.widget-view+json": {
       "model_id": "2f6cf0b64325491d95c17800fd16edaa",
       "version_major": 2,
       "version_minor": 0
      },
      "text/html": [
       "<p>Failed to display Jupyter Widget of type <code>HBox</code>.</p>\n",
       "<p>\n",
       "  If you're reading this message in the Jupyter Notebook or JupyterLab Notebook, it may mean\n",
       "  that the widgets JavaScript is still loading. If this message persists, it\n",
       "  likely means that the widgets JavaScript library is either not installed or\n",
       "  not enabled. See the <a href=\"https://ipywidgets.readthedocs.io/en/stable/user_install.html\">Jupyter\n",
       "  Widgets Documentation</a> for setup instructions.\n",
       "</p>\n",
       "<p>\n",
       "  If you're reading this message in another frontend (for example, a static\n",
       "  rendering on GitHub or <a href=\"https://nbviewer.jupyter.org/\">NBViewer</a>),\n",
       "  it may mean that your frontend doesn't currently support widgets.\n",
       "</p>\n"
      ],
      "text/plain": [
       "HBox(children=(BoundedIntText(value=2, description='Circular:', min=2), Button(description='Calcular', style=ButtonStyle())))"
      ]
     },
     "metadata": {},
     "output_type": "display_data"
    }
   ],
   "source": [
    "circular_button = widgets.Button(description = 'Calcular')\n",
    "circular_input = widgets.BoundedIntText(\n",
    "    value=2,\n",
    "    min=2,\n",
    "    max=100,\n",
    "    step=1,\n",
    "    description='Circular:',\n",
    "    disabled=False,\n",
    ")\n",
    "def on_circular_clicked(event):\n",
    "    clear_output(wait=True)\n",
    "    display(widgets.HBox((circular_input, circular_button)))\n",
    "    print('Permutación Circular de {} es: {}'.format(circular_input.value, factorial(circular_input.value - 1)))\n",
    "    \n",
    "circular_button.on_click(on_circular_clicked)\n",
    "display(widgets.HBox((circular_input, circular_button)))\n"
   ]
  },
  {
   "cell_type": "markdown",
   "metadata": {},
   "source": [
    "<div id='permuationRinR'></div>\n",
    "### Permutación de Objetos distintos tomados de r en r"
   ]
  },
  {
   "cell_type": "code",
   "execution_count": 5,
   "metadata": {},
   "outputs": [
    {
     "data": {
      "application/vnd.jupyter.widget-view+json": {
       "model_id": "1f0e64d948624fea96e85d7e722d5c9d",
       "version_major": 2,
       "version_minor": 0
      },
      "text/html": [
       "<p>Failed to display Jupyter Widget of type <code>HBox</code>.</p>\n",
       "<p>\n",
       "  If you're reading this message in the Jupyter Notebook or JupyterLab Notebook, it may mean\n",
       "  that the widgets JavaScript is still loading. If this message persists, it\n",
       "  likely means that the widgets JavaScript library is either not installed or\n",
       "  not enabled. See the <a href=\"https://ipywidgets.readthedocs.io/en/stable/user_install.html\">Jupyter\n",
       "  Widgets Documentation</a> for setup instructions.\n",
       "</p>\n",
       "<p>\n",
       "  If you're reading this message in another frontend (for example, a static\n",
       "  rendering on GitHub or <a href=\"https://nbviewer.jupyter.org/\">NBViewer</a>),\n",
       "  it may mean that your frontend doesn't currently support widgets.\n",
       "</p>\n"
      ],
      "text/plain": [
       "HBox(children=(BoundedIntText(value=2, description='n:', min=2),))"
      ]
     },
     "metadata": {},
     "output_type": "display_data"
    },
    {
     "data": {
      "application/vnd.jupyter.widget-view+json": {
       "model_id": "ad4db3a30f7d4d2c896f85b3617de172",
       "version_major": 2,
       "version_minor": 0
      },
      "text/html": [
       "<p>Failed to display Jupyter Widget of type <code>HBox</code>.</p>\n",
       "<p>\n",
       "  If you're reading this message in the Jupyter Notebook or JupyterLab Notebook, it may mean\n",
       "  that the widgets JavaScript is still loading. If this message persists, it\n",
       "  likely means that the widgets JavaScript library is either not installed or\n",
       "  not enabled. See the <a href=\"https://ipywidgets.readthedocs.io/en/stable/user_install.html\">Jupyter\n",
       "  Widgets Documentation</a> for setup instructions.\n",
       "</p>\n",
       "<p>\n",
       "  If you're reading this message in another frontend (for example, a static\n",
       "  rendering on GitHub or <a href=\"https://nbviewer.jupyter.org/\">NBViewer</a>),\n",
       "  it may mean that your frontend doesn't currently support widgets.\n",
       "</p>\n"
      ],
      "text/plain": [
       "HBox(children=(BoundedIntText(value=1, description='r:', min=1), Button(description='Calcular', style=ButtonStyle())))"
      ]
     },
     "metadata": {},
     "output_type": "display_data"
    }
   ],
   "source": [
    "n_in_r_button = widgets.Button(description = 'Calcular')\n",
    "n_in_r_input_n = widgets.BoundedIntText(\n",
    "    value=2,\n",
    "    min=2,\n",
    "    max=100,\n",
    "    step=1,\n",
    "    description='n:',\n",
    "    disabled=False,\n",
    ")\n",
    "n_in_r_input_r = widgets.BoundedIntText(\n",
    "    value=1,\n",
    "    min=1,\n",
    "    max=100,\n",
    "    step=1,\n",
    "    description='r:',\n",
    "    disabled=False,\n",
    ")\n",
    "def on_n_in_r_clicked(event):\n",
    "    clear_output(wait=True)\n",
    "    display(widgets.HBox((n_in_r_input_n,)))\n",
    "    display(widgets.HBox((n_in_r_input_r, n_in_r_button)))\n",
    "    print('Permutación de {} objetos tomados de {} es: {}'.format(n_in_r_input_r.value, n_in_r_input_n.value, permutation_different_objects_taken_r_in_r(n_in_r_input_n.value, n_in_r_input_r.value)))\n",
    "    \n",
    "n_in_r_button.on_click(on_n_in_r_clicked)\n",
    "display(widgets.HBox((n_in_r_input_n,)))\n",
    "display(widgets.HBox((n_in_r_input_r, n_in_r_button)))\n"
   ]
  },
  {
   "cell_type": "markdown",
   "metadata": {},
   "source": [
    "<div id='permuationRinRwithRepetition'></div>\n",
    "### Permutaciones con repetición de n elemntos tomados de r en r\n",
    "Ingresa los elementos separados por coma ','"
   ]
  },
  {
   "cell_type": "code",
   "execution_count": 6,
   "metadata": {},
   "outputs": [
    {
     "data": {
      "application/vnd.jupyter.widget-view+json": {
       "model_id": "81f08e08e20a48669939c9b6f1c3b6ee",
       "version_major": 2,
       "version_minor": 0
      },
      "text/html": [
       "<p>Failed to display Jupyter Widget of type <code>HBox</code>.</p>\n",
       "<p>\n",
       "  If you're reading this message in the Jupyter Notebook or JupyterLab Notebook, it may mean\n",
       "  that the widgets JavaScript is still loading. If this message persists, it\n",
       "  likely means that the widgets JavaScript library is either not installed or\n",
       "  not enabled. See the <a href=\"https://ipywidgets.readthedocs.io/en/stable/user_install.html\">Jupyter\n",
       "  Widgets Documentation</a> for setup instructions.\n",
       "</p>\n",
       "<p>\n",
       "  If you're reading this message in another frontend (for example, a static\n",
       "  rendering on GitHub or <a href=\"https://nbviewer.jupyter.org/\">NBViewer</a>),\n",
       "  it may mean that your frontend doesn't currently support widgets.\n",
       "</p>\n"
      ],
      "text/plain": [
       "HBox(children=(Text(value='', description='Elementos:', placeholder='Números separados por comas'), Button(description='Calcular', style=ButtonStyle())))"
      ]
     },
     "metadata": {},
     "output_type": "display_data"
    }
   ],
   "source": [
    "permutation_repetition_button = widgets.Button(description = 'Calcular')\n",
    "permutation_repetition_input = widgets.Text(\n",
    "    placeholder='Números separados por comas',\n",
    "    description='Elementos:',\n",
    "    disabled=False\n",
    ")\n",
    "def on_permutation_repetition_clicked(event):\n",
    "    clear_output(wait=True)\n",
    "    display(widgets.HBox((permutation_repetition_input, permutation_repetition_button)))\n",
    "    values = list(map(lambda x: int(x),permutation_repetition_input.value.split(',')))\n",
    "    result = permutation_different_objects_taken_r_in_r_with_repetition(sum(values), values)\n",
    "    print('Permutación con repetición : {}'.format(result))\n",
    "    \n",
    "permutation_repetition_button.on_click(on_permutation_repetition_clicked)\n",
    "display(widgets.HBox((permutation_repetition_input, permutation_repetition_button)))\n"
   ]
  },
  {
   "cell_type": "markdown",
   "metadata": {},
   "source": [
    "<div id='multiplicativePrinciple'></div>\n",
    "### Principio Multiplicativo"
   ]
  },
  {
   "cell_type": "code",
   "execution_count": 7,
   "metadata": {},
   "outputs": [
    {
     "data": {
      "application/vnd.jupyter.widget-view+json": {
       "model_id": "ed2bc205cf5742f8b5704f149d96c3b6",
       "version_major": 2,
       "version_minor": 0
      },
      "text/html": [
       "<p>Failed to display Jupyter Widget of type <code>HBox</code>.</p>\n",
       "<p>\n",
       "  If you're reading this message in the Jupyter Notebook or JupyterLab Notebook, it may mean\n",
       "  that the widgets JavaScript is still loading. If this message persists, it\n",
       "  likely means that the widgets JavaScript library is either not installed or\n",
       "  not enabled. See the <a href=\"https://ipywidgets.readthedocs.io/en/stable/user_install.html\">Jupyter\n",
       "  Widgets Documentation</a> for setup instructions.\n",
       "</p>\n",
       "<p>\n",
       "  If you're reading this message in another frontend (for example, a static\n",
       "  rendering on GitHub or <a href=\"https://nbviewer.jupyter.org/\">NBViewer</a>),\n",
       "  it may mean that your frontend doesn't currently support widgets.\n",
       "</p>\n"
      ],
      "text/plain": [
       "HBox(children=(Text(value='', description='Elementos:', placeholder='Números separados por comas'), Button(description='Calcular', style=ButtonStyle())))"
      ]
     },
     "metadata": {},
     "output_type": "display_data"
    }
   ],
   "source": [
    "multiplicative_button = widgets.Button(description = 'Calcular')\n",
    "multiplicative_input = widgets.Text(\n",
    "    placeholder='Números separados por comas',\n",
    "    description='Elementos:',\n",
    "    disabled=False\n",
    ")\n",
    "def on_multiplicative_clicked(event):\n",
    "    clear_output(wait=True)\n",
    "    display(widgets.HBox((multiplicative_input, multiplicative_button)))\n",
    "    values = list(map(lambda x: int(x),multiplicative_input.value.split(',')))\n",
    "    result = multiplicative_principle(values)\n",
    "    print('Principio Multiplicativo : {}'.format(result))\n",
    "    \n",
    "multiplicative_button.on_click(on_multiplicative_clicked)\n",
    "display(widgets.HBox((multiplicative_input, multiplicative_button)))\n"
   ]
  },
  {
   "cell_type": "markdown",
   "metadata": {},
   "source": [
    "<div id='combination'></div>\n",
    "### Combinaciones"
   ]
  },
  {
   "cell_type": "code",
   "execution_count": 8,
   "metadata": {},
   "outputs": [
    {
     "data": {
      "application/vnd.jupyter.widget-view+json": {
       "model_id": "a68c7a0aa7634de789dac7ef04d3bd28",
       "version_major": 2,
       "version_minor": 0
      },
      "text/html": [
       "<p>Failed to display Jupyter Widget of type <code>HBox</code>.</p>\n",
       "<p>\n",
       "  If you're reading this message in the Jupyter Notebook or JupyterLab Notebook, it may mean\n",
       "  that the widgets JavaScript is still loading. If this message persists, it\n",
       "  likely means that the widgets JavaScript library is either not installed or\n",
       "  not enabled. See the <a href=\"https://ipywidgets.readthedocs.io/en/stable/user_install.html\">Jupyter\n",
       "  Widgets Documentation</a> for setup instructions.\n",
       "</p>\n",
       "<p>\n",
       "  If you're reading this message in another frontend (for example, a static\n",
       "  rendering on GitHub or <a href=\"https://nbviewer.jupyter.org/\">NBViewer</a>),\n",
       "  it may mean that your frontend doesn't currently support widgets.\n",
       "</p>\n"
      ],
      "text/plain": [
       "HBox(children=(BoundedIntText(value=2, description='n:', min=2),))"
      ]
     },
     "metadata": {},
     "output_type": "display_data"
    },
    {
     "data": {
      "application/vnd.jupyter.widget-view+json": {
       "model_id": "6e5f96692c054118870b076063a9bea2",
       "version_major": 2,
       "version_minor": 0
      },
      "text/html": [
       "<p>Failed to display Jupyter Widget of type <code>HBox</code>.</p>\n",
       "<p>\n",
       "  If you're reading this message in the Jupyter Notebook or JupyterLab Notebook, it may mean\n",
       "  that the widgets JavaScript is still loading. If this message persists, it\n",
       "  likely means that the widgets JavaScript library is either not installed or\n",
       "  not enabled. See the <a href=\"https://ipywidgets.readthedocs.io/en/stable/user_install.html\">Jupyter\n",
       "  Widgets Documentation</a> for setup instructions.\n",
       "</p>\n",
       "<p>\n",
       "  If you're reading this message in another frontend (for example, a static\n",
       "  rendering on GitHub or <a href=\"https://nbviewer.jupyter.org/\">NBViewer</a>),\n",
       "  it may mean that your frontend doesn't currently support widgets.\n",
       "</p>\n"
      ],
      "text/plain": [
       "HBox(children=(BoundedIntText(value=1, description='r:', min=1), Button(description='Calcular', style=ButtonStyle())))"
      ]
     },
     "metadata": {},
     "output_type": "display_data"
    }
   ],
   "source": [
    "combination_button = widgets.Button(description = 'Calcular')\n",
    "combination_input_n = widgets.BoundedIntText(\n",
    "    value=2,\n",
    "    min=2,\n",
    "    max=100,\n",
    "    step=1,\n",
    "    description='n:',\n",
    "    disabled=False,\n",
    ")\n",
    "combination_input_r = widgets.BoundedIntText(\n",
    "    value=1,\n",
    "    min=1,\n",
    "    max=100,\n",
    "    step=1,\n",
    "    description='r:',\n",
    "    disabled=False,\n",
    ")\n",
    "def on_combination_clicked(event):\n",
    "    clear_output(wait=True)\n",
    "    display(widgets.HBox((combination_input_n,)))\n",
    "    display(widgets.HBox((combination_input_r, combination_button)))\n",
    "    print('Combinacion de {} objetos tomados de {} es: {}'.format(combination_input_r.value, combination_input_n.value, combination(combination_input_n.value, combination_input_r.value)))\n",
    "    \n",
    "    \n",
    "    \n",
    "combination_button.on_click(on_combination_clicked)\n",
    "display(widgets.HBox((combination_input_n,)))\n",
    "display(widgets.HBox((combination_input_r, combination_button)))"
   ]
  },
  {
   "cell_type": "markdown",
   "metadata": {},
   "source": [
    "<div id='classicProbabilityApproach'></div>\n",
    "### Enfoque de probabilidad clásico"
   ]
  },
  {
   "cell_type": "code",
   "execution_count": 9,
   "metadata": {},
   "outputs": [
    {
     "data": {
      "application/vnd.jupyter.widget-view+json": {
       "model_id": "3b307a5083e64ea5b53fcb8accb21495",
       "version_major": 2,
       "version_minor": 0
      },
      "text/html": [
       "<p>Failed to display Jupyter Widget of type <code>HBox</code>.</p>\n",
       "<p>\n",
       "  If you're reading this message in the Jupyter Notebook or JupyterLab Notebook, it may mean\n",
       "  that the widgets JavaScript is still loading. If this message persists, it\n",
       "  likely means that the widgets JavaScript library is either not installed or\n",
       "  not enabled. See the <a href=\"https://ipywidgets.readthedocs.io/en/stable/user_install.html\">Jupyter\n",
       "  Widgets Documentation</a> for setup instructions.\n",
       "</p>\n",
       "<p>\n",
       "  If you're reading this message in another frontend (for example, a static\n",
       "  rendering on GitHub or <a href=\"https://nbviewer.jupyter.org/\">NBViewer</a>),\n",
       "  it may mean that your frontend doesn't currently support widgets.\n",
       "</p>\n"
      ],
      "text/plain": [
       "HBox(children=(BoundedIntText(value=1, description='Veces que puede occurrir un evento:', min=1, style=DescriptionStyle(description_width='initial')),))"
      ]
     },
     "metadata": {},
     "output_type": "display_data"
    },
    {
     "data": {
      "application/vnd.jupyter.widget-view+json": {
       "model_id": "a0f5251e0d684035a8931495ce332b16",
       "version_major": 2,
       "version_minor": 0
      },
      "text/html": [
       "<p>Failed to display Jupyter Widget of type <code>HBox</code>.</p>\n",
       "<p>\n",
       "  If you're reading this message in the Jupyter Notebook or JupyterLab Notebook, it may mean\n",
       "  that the widgets JavaScript is still loading. If this message persists, it\n",
       "  likely means that the widgets JavaScript library is either not installed or\n",
       "  not enabled. See the <a href=\"https://ipywidgets.readthedocs.io/en/stable/user_install.html\">Jupyter\n",
       "  Widgets Documentation</a> for setup instructions.\n",
       "</p>\n",
       "<p>\n",
       "  If you're reading this message in another frontend (for example, a static\n",
       "  rendering on GitHub or <a href=\"https://nbviewer.jupyter.org/\">NBViewer</a>),\n",
       "  it may mean that your frontend doesn't currently support widgets.\n",
       "</p>\n"
      ],
      "text/plain": [
       "HBox(children=(BoundedIntText(value=1, description='Total de formas del experimento:', min=1, style=DescriptionStyle(description_width='initial')), Button(description='Calcular', style=ButtonStyle())))"
      ]
     },
     "metadata": {},
     "output_type": "display_data"
    }
   ],
   "source": [
    "style = {'description_width': 'initial'}\n",
    "classic_button = widgets.Button(description = 'Calcular')\n",
    "classic_input_n = widgets.BoundedIntText(\n",
    "    value=1,\n",
    "    min=1,\n",
    "    max=100,\n",
    "    step=1,\n",
    "    description='Veces que puede occurrir un evento:',\n",
    "    disabled=False,\n",
    "    style=style,\n",
    ")\n",
    "classic_input_r = widgets.BoundedIntText(\n",
    "    value=1,\n",
    "    min=1,\n",
    "    max=100,\n",
    "    step=1,\n",
    "    description='Total de formas del experimento:',\n",
    "    disabled=False,\n",
    "    style=style,\n",
    ")\n",
    "def on_classic_clicked(event):\n",
    "    clear_output(wait=True)\n",
    "    display(widgets.HBox((classic_input_n,)))\n",
    "    display(widgets.HBox((classic_input_r, classic_button)))\n",
    "    print('La probabilidad de que pueda ocurrir el evento es: {}'.format(classic_probability_approach(classic_input_n.value, classic_input_r.value)))\n",
    "    \n",
    "classic_button.on_click(on_classic_clicked)\n",
    "display(widgets.HBox((classic_input_n,)))\n",
    "display(widgets.HBox((classic_input_r, classic_button)))\n"
   ]
  },
  {
   "cell_type": "markdown",
   "metadata": {},
   "source": [
    "<div id='empiricalProbabilityApproach'></div>\n",
    "### Enfoque de probabilidad empírico"
   ]
  },
  {
   "cell_type": "code",
   "execution_count": 10,
   "metadata": {},
   "outputs": [
    {
     "data": {
      "application/vnd.jupyter.widget-view+json": {
       "model_id": "960e104e97524ed2847d21dde61fb27d",
       "version_major": 2,
       "version_minor": 0
      },
      "text/html": [
       "<p>Failed to display Jupyter Widget of type <code>HBox</code>.</p>\n",
       "<p>\n",
       "  If you're reading this message in the Jupyter Notebook or JupyterLab Notebook, it may mean\n",
       "  that the widgets JavaScript is still loading. If this message persists, it\n",
       "  likely means that the widgets JavaScript library is either not installed or\n",
       "  not enabled. See the <a href=\"https://ipywidgets.readthedocs.io/en/stable/user_install.html\">Jupyter\n",
       "  Widgets Documentation</a> for setup instructions.\n",
       "</p>\n",
       "<p>\n",
       "  If you're reading this message in another frontend (for example, a static\n",
       "  rendering on GitHub or <a href=\"https://nbviewer.jupyter.org/\">NBViewer</a>),\n",
       "  it may mean that your frontend doesn't currently support widgets.\n",
       "</p>\n"
      ],
      "text/plain": [
       "HBox(children=(BoundedIntText(value=1, description='Veces que ocurrio el evento:', min=1, style=DescriptionStyle(description_width='initial')),))"
      ]
     },
     "metadata": {},
     "output_type": "display_data"
    },
    {
     "data": {
      "application/vnd.jupyter.widget-view+json": {
       "model_id": "d6cd49f9749f4362ac8674ee746e3f4f",
       "version_major": 2,
       "version_minor": 0
      },
      "text/html": [
       "<p>Failed to display Jupyter Widget of type <code>HBox</code>.</p>\n",
       "<p>\n",
       "  If you're reading this message in the Jupyter Notebook or JupyterLab Notebook, it may mean\n",
       "  that the widgets JavaScript is still loading. If this message persists, it\n",
       "  likely means that the widgets JavaScript library is either not installed or\n",
       "  not enabled. See the <a href=\"https://ipywidgets.readthedocs.io/en/stable/user_install.html\">Jupyter\n",
       "  Widgets Documentation</a> for setup instructions.\n",
       "</p>\n",
       "<p>\n",
       "  If you're reading this message in another frontend (for example, a static\n",
       "  rendering on GitHub or <a href=\"https://nbviewer.jupyter.org/\">NBViewer</a>),\n",
       "  it may mean that your frontend doesn't currently support widgets.\n",
       "</p>\n"
      ],
      "text/plain": [
       "HBox(children=(BoundedIntText(value=1, description='Número de formas del experimento:', min=1, style=DescriptionStyle(description_width='initial')), Button(description='Calcular', style=ButtonStyle())))"
      ]
     },
     "metadata": {},
     "output_type": "display_data"
    }
   ],
   "source": [
    "style = {'description_width': 'initial'}\n",
    "empirical_button = widgets.Button(description = 'Calcular')\n",
    "empirical_input_n = widgets.BoundedIntText(\n",
    "    value=1,\n",
    "    min=1,\n",
    "    max=100,\n",
    "    step=1,\n",
    "    description='Veces que ocurrio el evento:',\n",
    "    disabled=False,\n",
    "    style=style,\n",
    ")\n",
    "empirical_input_r = widgets.BoundedIntText(\n",
    "    value=1,\n",
    "    min=1,\n",
    "    max=100,\n",
    "    step=1,\n",
    "    description='Número de formas del experimento:',\n",
    "    disabled=False,\n",
    "    style=style,\n",
    ")\n",
    "def on_empirical_clicked(event):\n",
    "    clear_output(wait=True)\n",
    "    display(widgets.HBox((empirical_input_n,)))\n",
    "    display(widgets.HBox((empirical_input_r, empirical_button)))\n",
    "    print('La probabilidad de que pueda ocurrir el evento es: {}'.format(empirical_probability_approach(empirical_input_n.value, empirical_input_r.value)))\n",
    "    \n",
    "empirical_button.on_click(on_empirical_clicked)\n",
    "display(widgets.HBox((empirical_input_n,)))\n",
    "display(widgets.HBox((empirical_input_r, empirical_button)))\n"
   ]
  },
  {
   "cell_type": "markdown",
   "metadata": {},
   "source": [
    "<div id='generalRuleofAddition'></div>\n",
    "### Regla general de adición"
   ]
  },
  {
   "cell_type": "code",
   "execution_count": 11,
   "metadata": {},
   "outputs": [
    {
     "data": {
      "application/vnd.jupyter.widget-view+json": {
       "model_id": "26769c3bdde64b50a704767bb5fe2a57",
       "version_major": 2,
       "version_minor": 0
      },
      "text/html": [
       "<p>Failed to display Jupyter Widget of type <code>HBox</code>.</p>\n",
       "<p>\n",
       "  If you're reading this message in the Jupyter Notebook or JupyterLab Notebook, it may mean\n",
       "  that the widgets JavaScript is still loading. If this message persists, it\n",
       "  likely means that the widgets JavaScript library is either not installed or\n",
       "  not enabled. See the <a href=\"https://ipywidgets.readthedocs.io/en/stable/user_install.html\">Jupyter\n",
       "  Widgets Documentation</a> for setup instructions.\n",
       "</p>\n",
       "<p>\n",
       "  If you're reading this message in another frontend (for example, a static\n",
       "  rendering on GitHub or <a href=\"https://nbviewer.jupyter.org/\">NBViewer</a>),\n",
       "  it may mean that your frontend doesn't currently support widgets.\n",
       "</p>\n"
      ],
      "text/plain": [
       "HBox(children=(BoundedFloatText(value=0.0, description='P(A):', max=1.0, step=0.001),))"
      ]
     },
     "metadata": {},
     "output_type": "display_data"
    },
    {
     "data": {
      "application/vnd.jupyter.widget-view+json": {
       "model_id": "ba901fac1e8a4e99895b2cd1591916f8",
       "version_major": 2,
       "version_minor": 0
      },
      "text/html": [
       "<p>Failed to display Jupyter Widget of type <code>HBox</code>.</p>\n",
       "<p>\n",
       "  If you're reading this message in the Jupyter Notebook or JupyterLab Notebook, it may mean\n",
       "  that the widgets JavaScript is still loading. If this message persists, it\n",
       "  likely means that the widgets JavaScript library is either not installed or\n",
       "  not enabled. See the <a href=\"https://ipywidgets.readthedocs.io/en/stable/user_install.html\">Jupyter\n",
       "  Widgets Documentation</a> for setup instructions.\n",
       "</p>\n",
       "<p>\n",
       "  If you're reading this message in another frontend (for example, a static\n",
       "  rendering on GitHub or <a href=\"https://nbviewer.jupyter.org/\">NBViewer</a>),\n",
       "  it may mean that your frontend doesn't currently support widgets.\n",
       "</p>\n"
      ],
      "text/plain": [
       "HBox(children=(BoundedFloatText(value=0.0, description='P(B):', max=1.0, step=0.001),))"
      ]
     },
     "metadata": {},
     "output_type": "display_data"
    },
    {
     "data": {
      "application/vnd.jupyter.widget-view+json": {
       "model_id": "b3cdca42a747464c93f6ed80ebf7598f",
       "version_major": 2,
       "version_minor": 0
      },
      "text/html": [
       "<p>Failed to display Jupyter Widget of type <code>HBox</code>.</p>\n",
       "<p>\n",
       "  If you're reading this message in the Jupyter Notebook or JupyterLab Notebook, it may mean\n",
       "  that the widgets JavaScript is still loading. If this message persists, it\n",
       "  likely means that the widgets JavaScript library is either not installed or\n",
       "  not enabled. See the <a href=\"https://ipywidgets.readthedocs.io/en/stable/user_install.html\">Jupyter\n",
       "  Widgets Documentation</a> for setup instructions.\n",
       "</p>\n",
       "<p>\n",
       "  If you're reading this message in another frontend (for example, a static\n",
       "  rendering on GitHub or <a href=\"https://nbviewer.jupyter.org/\">NBViewer</a>),\n",
       "  it may mean that your frontend doesn't currently support widgets.\n",
       "</p>\n"
      ],
      "text/plain": [
       "HBox(children=(BoundedFloatText(value=0.0, description='P(A n B):', max=1.0, step=0.001), Button(description='Calcular', style=ButtonStyle())))"
      ]
     },
     "metadata": {},
     "output_type": "display_data"
    }
   ],
   "source": [
    "addition_rule_button = widgets.Button(description = 'Calcular')\n",
    "addition_probability_a = widgets.BoundedFloatText(\n",
    "    min=0,\n",
    "    max=1,\n",
    "    placeholder='Decimal entre 0 y 1',\n",
    "    step=0.001,\n",
    "    description='P(A):',\n",
    ")\n",
    "addition_probability_b = widgets.BoundedFloatText(\n",
    "    min=0,\n",
    "    max=1,\n",
    "    placeholder='Decimal entre 0 y 1',\n",
    "    step=0.001,\n",
    "    description='P(B):',\n",
    ")\n",
    "addition_probability_a_n_b = widgets.BoundedFloatText(\n",
    "    min=0,\n",
    "    max=1,\n",
    "    placeholder='Decimal entre 0 y 1',\n",
    "    step=0.001,\n",
    "    description='P(A n B):',\n",
    ")\n",
    "def addition_rule_clicked(event):\n",
    "    clear_output(wait=True)\n",
    "    display(widgets.HBox((addition_probability_a,)))\n",
    "    display(widgets.HBox((addition_probability_b,)))\n",
    "    display(widgets.HBox((addition_probability_a_n_b,addition_rule_button)))\n",
    "    print('P(A u B) es: {}'.format(general_addition_rule(addition_probability_a.value, addition_probability_b.value, addition_probability_a_n_b.value)))\n",
    "    \n",
    "addition_rule_button.on_click(addition_rule_clicked)\n",
    "display(widgets.HBox((addition_probability_a,)))\n",
    "display(widgets.HBox((addition_probability_b,)))\n",
    "display(widgets.HBox((addition_probability_a_n_b,addition_rule_button)))\n"
   ]
  },
  {
   "cell_type": "markdown",
   "metadata": {},
   "source": [
    "<div id='conditionalProbability'></div>\n",
    "### Probabilidad condicional"
   ]
  },
  {
   "cell_type": "markdown",
   "metadata": {},
   "source": [
    "<div id='generalRuleofMultiplication'></div>\n",
    "### Regla general de multiplicación"
   ]
  },
  {
   "cell_type": "markdown",
   "metadata": {},
   "source": [
    "<div id='totalProbability'></div>\n",
    "### Probabilidad total"
   ]
  },
  {
   "cell_type": "markdown",
   "metadata": {},
   "source": [
    "<div id='bayesTheorem'></div>\n",
    "### Teorema de Bayes"
   ]
  },
  {
   "cell_type": "markdown",
   "metadata": {},
   "source": [
    "<div id='mode'></div>\n",
    "### Moda"
   ]
  },
  {
   "cell_type": "markdown",
   "metadata": {},
   "source": [
    "<div id='mean'></div>\n",
    "### Media"
   ]
  },
  {
   "cell_type": "markdown",
   "metadata": {},
   "source": [
    "<div id='median'></div>\n",
    "### Mediana"
   ]
  },
  {
   "cell_type": "markdown",
   "metadata": {},
   "source": [
    "<div id='range'></div>\n",
    "### Rango"
   ]
  },
  {
   "cell_type": "markdown",
   "metadata": {},
   "source": [
    "<div id='variance'></div>\n",
    "### Varianza"
   ]
  },
  {
   "cell_type": "markdown",
   "metadata": {},
   "source": [
    "<div id='standardDeviation'></div>\n",
    "### Desviación estándar"
   ]
  },
  {
   "cell_type": "markdown",
   "metadata": {},
   "source": [
    "<div id='coefficientofVariation'></div>\n",
    "### Coeficiente de variación"
   ]
  },
  {
   "cell_type": "markdown",
   "metadata": {},
   "source": [
    "<div id='frequencyTable'></div>\n",
    "### Tabla de frecuencias"
   ]
  }
 ],
 "metadata": {
  "hide_input": false,
  "kernelspec": {
   "display_name": "Python 3",
   "language": "python",
   "name": "python3"
  },
  "language_info": {
   "codemirror_mode": {
    "name": "ipython",
    "version": 3
   },
   "file_extension": ".py",
   "mimetype": "text/x-python",
   "name": "python",
   "nbconvert_exporter": "python",
   "pygments_lexer": "ipython3",
   "version": "3.5.2"
  },
  "widgets": {
   "application/vnd.jupyter.widget-state+json": {
    "state": {
     "0154b0d58d3d4e09ba4958f4b9a23ca8": {
      "model_module": "@jupyter-widgets/base",
      "model_module_version": "1.0.0",
      "model_name": "LayoutModel",
      "state": {}
     },
     "01bb6976f7434a8da68aae20e47c7a34": {
      "model_module": "@jupyter-widgets/base",
      "model_module_version": "1.0.0",
      "model_name": "LayoutModel",
      "state": {}
     },
     "028333d68d874c8ba554ac6c7aa3f74f": {
      "model_module": "@jupyter-widgets/controls",
      "model_module_version": "1.1.0",
      "model_name": "ButtonStyleModel",
      "state": {}
     },
     "088f7bf58aa44c6bb873c74546eeddbe": {
      "model_module": "@jupyter-widgets/controls",
      "model_module_version": "1.1.0",
      "model_name": "DescriptionStyleModel",
      "state": {
       "description_width": "initial"
      }
     },
     "0b90fc31646f4231ace4629ea0ee1791": {
      "model_module": "@jupyter-widgets/base",
      "model_module_version": "1.0.0",
      "model_name": "LayoutModel",
      "state": {}
     },
     "12834845c91f401e83942309d8cd2124": {
      "model_module": "@jupyter-widgets/base",
      "model_module_version": "1.0.0",
      "model_name": "LayoutModel",
      "state": {}
     },
     "146cdb7f5b1f4afea1533750759bf5cf": {
      "model_module": "@jupyter-widgets/base",
      "model_module_version": "1.0.0",
      "model_name": "LayoutModel",
      "state": {}
     },
     "1729099524004c0d80c623431ceee2a5": {
      "model_module": "@jupyter-widgets/controls",
      "model_module_version": "1.1.0",
      "model_name": "BoundedIntTextModel",
      "state": {
       "description": "n:",
       "layout": "IPY_MODEL_5b2cfec82509423ea325cb42c39bb689",
       "min": 2,
       "style": "IPY_MODEL_666e778dd742488ea9bd9e20b5f35d25",
       "value": 2
      }
     },
     "17ab650810bd4795988925e32e00878b": {
      "model_module": "@jupyter-widgets/base",
      "model_module_version": "1.0.0",
      "model_name": "LayoutModel",
      "state": {}
     },
     "1be3dbb9992940a1b25116383da1c1ce": {
      "model_module": "@jupyter-widgets/base",
      "model_module_version": "1.0.0",
      "model_name": "LayoutModel",
      "state": {}
     },
     "1c3490d0ee234b3f862f9da59c4a3255": {
      "model_module": "@jupyter-widgets/base",
      "model_module_version": "1.0.0",
      "model_name": "LayoutModel",
      "state": {}
     },
     "1dffac74ca1a4b98a4d3c7fad5150be1": {
      "model_module": "@jupyter-widgets/controls",
      "model_module_version": "1.1.0",
      "model_name": "ButtonModel",
      "state": {
       "description": "Calcular",
       "layout": "IPY_MODEL_eb3296ca5eb746e0a70e2e473bea0963",
       "style": "IPY_MODEL_256f7d4c82704e148e4767c38adf5118"
      }
     },
     "1f0e64d948624fea96e85d7e722d5c9d": {
      "model_module": "@jupyter-widgets/controls",
      "model_module_version": "1.1.0",
      "model_name": "HBoxModel",
      "state": {
       "children": [
        "IPY_MODEL_d18568e3fe7e4a2aac3ce569c6023828"
       ],
       "layout": "IPY_MODEL_e34be8c7fe194622882dc02f43403ec4"
      }
     },
     "1fd8cff6de3848a598e9ad6285fd992f": {
      "model_module": "@jupyter-widgets/base",
      "model_module_version": "1.0.0",
      "model_name": "LayoutModel",
      "state": {}
     },
     "23834cf83dae49e59e38100ae423a5de": {
      "model_module": "@jupyter-widgets/base",
      "model_module_version": "1.0.0",
      "model_name": "LayoutModel",
      "state": {}
     },
     "256f7d4c82704e148e4767c38adf5118": {
      "model_module": "@jupyter-widgets/controls",
      "model_module_version": "1.1.0",
      "model_name": "ButtonStyleModel",
      "state": {}
     },
     "25aeabb91d944257b7fb5065cc75fd19": {
      "model_module": "@jupyter-widgets/controls",
      "model_module_version": "1.1.0",
      "model_name": "ButtonStyleModel",
      "state": {}
     },
     "26769c3bdde64b50a704767bb5fe2a57": {
      "model_module": "@jupyter-widgets/controls",
      "model_module_version": "1.1.0",
      "model_name": "HBoxModel",
      "state": {
       "children": [
        "IPY_MODEL_8345507c59ad47e7b53d92dc452e4aee"
       ],
       "layout": "IPY_MODEL_e6024f3c8c5840c59cacf83bc9b52735"
      }
     },
     "28bd7ecdd2d04d77b05b5aa0fdc5b69d": {
      "model_module": "@jupyter-widgets/base",
      "model_module_version": "1.0.0",
      "model_name": "LayoutModel",
      "state": {}
     },
     "2b1169b56b8d4de295d30f8777278991": {
      "model_module": "@jupyter-widgets/controls",
      "model_module_version": "1.1.0",
      "model_name": "ButtonModel",
      "state": {
       "description": "Calcular",
       "layout": "IPY_MODEL_d8f44c0cc3374ab18257d52df735d374",
       "style": "IPY_MODEL_40a6e8254b2c4626aff34ba252fdd7dd"
      }
     },
     "2f6cf0b64325491d95c17800fd16edaa": {
      "model_module": "@jupyter-widgets/controls",
      "model_module_version": "1.1.0",
      "model_name": "HBoxModel",
      "state": {
       "children": [
        "IPY_MODEL_82a9907e7f2649138362f3ab9bc9da85",
        "IPY_MODEL_7d288d3cedfb4aaf8d029137229cd9a6"
       ],
       "layout": "IPY_MODEL_c882109da1264acb90f2bc7993ea9591"
      }
     },
     "30b915b0af6843d28d547d86342d8152": {
      "model_module": "@jupyter-widgets/controls",
      "model_module_version": "1.1.0",
      "model_name": "DescriptionStyleModel",
      "state": {
       "description_width": ""
      }
     },
     "31ed5fe66e2b4f4bb9f7b3dddb7986ad": {
      "model_module": "@jupyter-widgets/controls",
      "model_module_version": "1.1.0",
      "model_name": "TextModel",
      "state": {
       "description": "Elementos:",
       "layout": "IPY_MODEL_12834845c91f401e83942309d8cd2124",
       "placeholder": "Números separados por comas",
       "style": "IPY_MODEL_30b915b0af6843d28d547d86342d8152"
      }
     },
     "3b307a5083e64ea5b53fcb8accb21495": {
      "model_module": "@jupyter-widgets/controls",
      "model_module_version": "1.1.0",
      "model_name": "HBoxModel",
      "state": {
       "children": [
        "IPY_MODEL_ac29b5c98dea4e9ba1b3d845a85f9b3f"
       ],
       "layout": "IPY_MODEL_0154b0d58d3d4e09ba4958f4b9a23ca8"
      }
     },
     "3f7edc9fd033443a871a7b68b107521b": {
      "model_module": "@jupyter-widgets/controls",
      "model_module_version": "1.1.0",
      "model_name": "DescriptionStyleModel",
      "state": {
       "description_width": ""
      }
     },
     "40a6e8254b2c4626aff34ba252fdd7dd": {
      "model_module": "@jupyter-widgets/controls",
      "model_module_version": "1.1.0",
      "model_name": "ButtonStyleModel",
      "state": {}
     },
     "44ae07981be4450ea0438d564265b80a": {
      "model_module": "@jupyter-widgets/controls",
      "model_module_version": "1.1.0",
      "model_name": "ButtonModel",
      "state": {
       "description": "Calcular",
       "layout": "IPY_MODEL_bf618e15b8354eceb9213fecaa0b4e13",
       "style": "IPY_MODEL_028333d68d874c8ba554ac6c7aa3f74f"
      }
     },
     "44fc213d586c481dbd1e0bcc89c8ba63": {
      "model_module": "@jupyter-widgets/controls",
      "model_module_version": "1.1.0",
      "model_name": "DescriptionStyleModel",
      "state": {
       "description_width": ""
      }
     },
     "4b82fcbffbdf471c8b10246f38b84a0b": {
      "model_module": "@jupyter-widgets/controls",
      "model_module_version": "1.1.0",
      "model_name": "BoundedFloatTextModel",
      "state": {
       "description": "P(A n B):",
       "layout": "IPY_MODEL_fbe6d77152ba4d6cacfb811fba19a266",
       "max": 1,
       "step": 0.001,
       "style": "IPY_MODEL_a60be1204f85450f9abd6a6b73b2b568"
      }
     },
     "4df0869757724071b00499341cbb91b3": {
      "model_module": "@jupyter-widgets/base",
      "model_module_version": "1.0.0",
      "model_name": "LayoutModel",
      "state": {}
     },
     "52041e0e5bf249db8032372082fbc8ff": {
      "model_module": "@jupyter-widgets/controls",
      "model_module_version": "1.1.0",
      "model_name": "ButtonStyleModel",
      "state": {}
     },
     "534ff591246c460ca74443118b6afd13": {
      "model_module": "@jupyter-widgets/base",
      "model_module_version": "1.0.0",
      "model_name": "LayoutModel",
      "state": {}
     },
     "5499b269fd1e408fb696ac992673b514": {
      "model_module": "@jupyter-widgets/base",
      "model_module_version": "1.0.0",
      "model_name": "LayoutModel",
      "state": {}
     },
     "56ae5cd9de3643e78594d9b449512243": {
      "model_module": "@jupyter-widgets/controls",
      "model_module_version": "1.1.0",
      "model_name": "DescriptionStyleModel",
      "state": {
       "description_width": ""
      }
     },
     "5734c296d9d4433b9c31960e9e79a291": {
      "model_module": "@jupyter-widgets/base",
      "model_module_version": "1.0.0",
      "model_name": "LayoutModel",
      "state": {}
     },
     "5833cc512df34f8fbe0c090c1b5182f4": {
      "model_module": "@jupyter-widgets/controls",
      "model_module_version": "1.1.0",
      "model_name": "DescriptionStyleModel",
      "state": {
       "description_width": ""
      }
     },
     "58dfb433f1ae434ca6f4866a426d572a": {
      "model_module": "@jupyter-widgets/controls",
      "model_module_version": "1.1.0",
      "model_name": "ButtonModel",
      "state": {
       "description": "Calcular",
       "layout": "IPY_MODEL_615747b270004575b37e53ba4595d52e",
       "style": "IPY_MODEL_b8cf0ff4b6de4115bd44f242099d8284"
      }
     },
     "5987b2cf6f30413ab2e831a4f4da4e2c": {
      "model_module": "@jupyter-widgets/controls",
      "model_module_version": "1.1.0",
      "model_name": "ButtonStyleModel",
      "state": {}
     },
     "5a8f8d1ff98740a492189fa1bfdd0114": {
      "model_module": "@jupyter-widgets/controls",
      "model_module_version": "1.1.0",
      "model_name": "BoundedIntTextModel",
      "state": {
       "description": "Factorial:",
       "layout": "IPY_MODEL_4df0869757724071b00499341cbb91b3",
       "min": 1,
       "style": "IPY_MODEL_44fc213d586c481dbd1e0bcc89c8ba63",
       "value": 1
      }
     },
     "5b2cfec82509423ea325cb42c39bb689": {
      "model_module": "@jupyter-widgets/base",
      "model_module_version": "1.0.0",
      "model_name": "LayoutModel",
      "state": {}
     },
     "5dc7a8423db64ffbb5d82a3291aba109": {
      "model_module": "@jupyter-widgets/controls",
      "model_module_version": "1.1.0",
      "model_name": "BoundedIntTextModel",
      "state": {
       "description": "Veces que ocurrio el evento:",
       "layout": "IPY_MODEL_9584a5a8f5d8413787f01fdf624e66f8",
       "min": 1,
       "style": "IPY_MODEL_088f7bf58aa44c6bb873c74546eeddbe",
       "value": 1
      }
     },
     "615747b270004575b37e53ba4595d52e": {
      "model_module": "@jupyter-widgets/base",
      "model_module_version": "1.0.0",
      "model_name": "LayoutModel",
      "state": {}
     },
     "6409a90b3c6e4bda9380b340879b7bc0": {
      "model_module": "@jupyter-widgets/controls",
      "model_module_version": "1.1.0",
      "model_name": "DescriptionStyleModel",
      "state": {
       "description_width": ""
      }
     },
     "666e778dd742488ea9bd9e20b5f35d25": {
      "model_module": "@jupyter-widgets/controls",
      "model_module_version": "1.1.0",
      "model_name": "DescriptionStyleModel",
      "state": {
       "description_width": ""
      }
     },
     "6743b35b51cc45ab89511917b3da0ac0": {
      "model_module": "@jupyter-widgets/base",
      "model_module_version": "1.0.0",
      "model_name": "LayoutModel",
      "state": {}
     },
     "6c438fbbc06c4a3f9f66cb2878acc11e": {
      "model_module": "@jupyter-widgets/base",
      "model_module_version": "1.0.0",
      "model_name": "LayoutModel",
      "state": {}
     },
     "6e5f96692c054118870b076063a9bea2": {
      "model_module": "@jupyter-widgets/controls",
      "model_module_version": "1.1.0",
      "model_name": "HBoxModel",
      "state": {
       "children": [
        "IPY_MODEL_7dc50ecc62ce4a8cb8ae50910a7abdef",
        "IPY_MODEL_1dffac74ca1a4b98a4d3c7fad5150be1"
       ],
       "layout": "IPY_MODEL_aeab684fe0544d8eb5473aad084f2af2"
      }
     },
     "6f90fb7afb6f4a7bab7f20af4dd25a89": {
      "model_module": "@jupyter-widgets/controls",
      "model_module_version": "1.1.0",
      "model_name": "DescriptionStyleModel",
      "state": {
       "description_width": "initial"
      }
     },
     "74d52721dbab416aa0279b5933b1c585": {
      "model_module": "@jupyter-widgets/base",
      "model_module_version": "1.0.0",
      "model_name": "LayoutModel",
      "state": {}
     },
     "755d7a491c0a443d91b82d989e833c9c": {
      "model_module": "@jupyter-widgets/controls",
      "model_module_version": "1.1.0",
      "model_name": "TextModel",
      "state": {
       "description": "Elementos:",
       "layout": "IPY_MODEL_74d52721dbab416aa0279b5933b1c585",
       "placeholder": "Números separados por comas",
       "style": "IPY_MODEL_3f7edc9fd033443a871a7b68b107521b"
      }
     },
     "7583db739d514bf09081493526d0a910": {
      "model_module": "@jupyter-widgets/controls",
      "model_module_version": "1.1.0",
      "model_name": "BoundedFloatTextModel",
      "state": {
       "description": "P(B):",
       "layout": "IPY_MODEL_5499b269fd1e408fb696ac992673b514",
       "max": 1,
       "step": 0.001,
       "style": "IPY_MODEL_8827b2c019f844e0a61f883b64081121"
      }
     },
     "762df4992d9e47da8c8ac13fb2322b6e": {
      "model_module": "@jupyter-widgets/base",
      "model_module_version": "1.0.0",
      "model_name": "LayoutModel",
      "state": {}
     },
     "7682458da64d4e1b89e8a991034e7ee5": {
      "model_module": "@jupyter-widgets/base",
      "model_module_version": "1.0.0",
      "model_name": "LayoutModel",
      "state": {}
     },
     "7d288d3cedfb4aaf8d029137229cd9a6": {
      "model_module": "@jupyter-widgets/controls",
      "model_module_version": "1.1.0",
      "model_name": "ButtonModel",
      "state": {
       "description": "Calcular",
       "layout": "IPY_MODEL_b0134988f8e649f081175f2aaf17bcec",
       "style": "IPY_MODEL_c12104e6ea814fd08cba5446af988750"
      }
     },
     "7dc50ecc62ce4a8cb8ae50910a7abdef": {
      "model_module": "@jupyter-widgets/controls",
      "model_module_version": "1.1.0",
      "model_name": "BoundedIntTextModel",
      "state": {
       "description": "r:",
       "layout": "IPY_MODEL_762df4992d9e47da8c8ac13fb2322b6e",
       "min": 1,
       "style": "IPY_MODEL_c08c42fc2f8e4a219bea556e007edf87",
       "value": 1
      }
     },
     "81f08e08e20a48669939c9b6f1c3b6ee": {
      "model_module": "@jupyter-widgets/controls",
      "model_module_version": "1.1.0",
      "model_name": "HBoxModel",
      "state": {
       "children": [
        "IPY_MODEL_31ed5fe66e2b4f4bb9f7b3dddb7986ad",
        "IPY_MODEL_2b1169b56b8d4de295d30f8777278991"
       ],
       "layout": "IPY_MODEL_17ab650810bd4795988925e32e00878b"
      }
     },
     "82a9907e7f2649138362f3ab9bc9da85": {
      "model_module": "@jupyter-widgets/controls",
      "model_module_version": "1.1.0",
      "model_name": "BoundedIntTextModel",
      "state": {
       "description": "Circular:",
       "layout": "IPY_MODEL_0b90fc31646f4231ace4629ea0ee1791",
       "min": 2,
       "style": "IPY_MODEL_6409a90b3c6e4bda9380b340879b7bc0",
       "value": 2
      }
     },
     "8345507c59ad47e7b53d92dc452e4aee": {
      "model_module": "@jupyter-widgets/controls",
      "model_module_version": "1.1.0",
      "model_name": "BoundedFloatTextModel",
      "state": {
       "description": "P(A):",
       "layout": "IPY_MODEL_9d044d58935a4208b00d6a2e0a0c0fe7",
       "max": 1,
       "step": 0.001,
       "style": "IPY_MODEL_56ae5cd9de3643e78594d9b449512243"
      }
     },
     "8688bad271944f5bba8771b1bebe7f80": {
      "model_module": "@jupyter-widgets/base",
      "model_module_version": "1.0.0",
      "model_name": "LayoutModel",
      "state": {}
     },
     "8827b2c019f844e0a61f883b64081121": {
      "model_module": "@jupyter-widgets/controls",
      "model_module_version": "1.1.0",
      "model_name": "DescriptionStyleModel",
      "state": {
       "description_width": ""
      }
     },
     "9584a5a8f5d8413787f01fdf624e66f8": {
      "model_module": "@jupyter-widgets/base",
      "model_module_version": "1.0.0",
      "model_name": "LayoutModel",
      "state": {}
     },
     "95eecb0b3d764aae86817b6c89c01255": {
      "model_module": "@jupyter-widgets/controls",
      "model_module_version": "1.1.0",
      "model_name": "ButtonModel",
      "state": {
       "description": "Calcular",
       "layout": "IPY_MODEL_28bd7ecdd2d04d77b05b5aa0fdc5b69d",
       "style": "IPY_MODEL_52041e0e5bf249db8032372082fbc8ff"
      }
     },
     "960e104e97524ed2847d21dde61fb27d": {
      "model_module": "@jupyter-widgets/controls",
      "model_module_version": "1.1.0",
      "model_name": "HBoxModel",
      "state": {
       "children": [
        "IPY_MODEL_5dc7a8423db64ffbb5d82a3291aba109"
       ],
       "layout": "IPY_MODEL_23834cf83dae49e59e38100ae423a5de"
      }
     },
     "96f80d7c879c49adafccc76e45539a72": {
      "model_module": "@jupyter-widgets/controls",
      "model_module_version": "1.1.0",
      "model_name": "DescriptionStyleModel",
      "state": {
       "description_width": ""
      }
     },
     "9782f214627a4ba7805cd54febe31d95": {
      "model_module": "@jupyter-widgets/controls",
      "model_module_version": "1.1.0",
      "model_name": "ButtonModel",
      "state": {
       "description": "Calcular",
       "layout": "IPY_MODEL_d00a1ca54a864594b8068dd420b2b8bc",
       "style": "IPY_MODEL_9c53f831880743caadbdbd0a6e673b4e"
      }
     },
     "9c53f831880743caadbdbd0a6e673b4e": {
      "model_module": "@jupyter-widgets/controls",
      "model_module_version": "1.1.0",
      "model_name": "ButtonStyleModel",
      "state": {}
     },
     "9d044d58935a4208b00d6a2e0a0c0fe7": {
      "model_module": "@jupyter-widgets/base",
      "model_module_version": "1.0.0",
      "model_name": "LayoutModel",
      "state": {}
     },
     "a0f5251e0d684035a8931495ce332b16": {
      "model_module": "@jupyter-widgets/controls",
      "model_module_version": "1.1.0",
      "model_name": "HBoxModel",
      "state": {
       "children": [
        "IPY_MODEL_ac1f7878653d4c1abd86a05893bd9c98",
        "IPY_MODEL_bec10114445846bf90efae03b226d2ec"
       ],
       "layout": "IPY_MODEL_8688bad271944f5bba8771b1bebe7f80"
      }
     },
     "a60be1204f85450f9abd6a6b73b2b568": {
      "model_module": "@jupyter-widgets/controls",
      "model_module_version": "1.1.0",
      "model_name": "DescriptionStyleModel",
      "state": {
       "description_width": ""
      }
     },
     "a68c7a0aa7634de789dac7ef04d3bd28": {
      "model_module": "@jupyter-widgets/controls",
      "model_module_version": "1.1.0",
      "model_name": "HBoxModel",
      "state": {
       "children": [
        "IPY_MODEL_1729099524004c0d80c623431ceee2a5"
       ],
       "layout": "IPY_MODEL_b013042a4f69471f8d38439d6991e462"
      }
     },
     "a9f3e65048bb4dc2b589c5665b7f79b9": {
      "model_module": "@jupyter-widgets/base",
      "model_module_version": "1.0.0",
      "model_name": "LayoutModel",
      "state": {}
     },
     "ac1f7878653d4c1abd86a05893bd9c98": {
      "model_module": "@jupyter-widgets/controls",
      "model_module_version": "1.1.0",
      "model_name": "BoundedIntTextModel",
      "state": {
       "description": "Total de formas del experimento:",
       "layout": "IPY_MODEL_01bb6976f7434a8da68aae20e47c7a34",
       "min": 1,
       "style": "IPY_MODEL_ff1fbe4f4a01447897bbf0422bd49274",
       "value": 1
      }
     },
     "ac29b5c98dea4e9ba1b3d845a85f9b3f": {
      "model_module": "@jupyter-widgets/controls",
      "model_module_version": "1.1.0",
      "model_name": "BoundedIntTextModel",
      "state": {
       "description": "Veces que puede occurrir un evento:",
       "layout": "IPY_MODEL_7682458da64d4e1b89e8a991034e7ee5",
       "min": 1,
       "style": "IPY_MODEL_b41c4fa9e533464a84674bef7c8edde7",
       "value": 1
      }
     },
     "ad4db3a30f7d4d2c896f85b3617de172": {
      "model_module": "@jupyter-widgets/controls",
      "model_module_version": "1.1.0",
      "model_name": "HBoxModel",
      "state": {
       "children": [
        "IPY_MODEL_c4610db002d245baa9cbf92bc58ca92c",
        "IPY_MODEL_58dfb433f1ae434ca6f4866a426d572a"
       ],
       "layout": "IPY_MODEL_1be3dbb9992940a1b25116383da1c1ce"
      }
     },
     "aeab684fe0544d8eb5473aad084f2af2": {
      "model_module": "@jupyter-widgets/base",
      "model_module_version": "1.0.0",
      "model_name": "LayoutModel",
      "state": {}
     },
     "b013042a4f69471f8d38439d6991e462": {
      "model_module": "@jupyter-widgets/base",
      "model_module_version": "1.0.0",
      "model_name": "LayoutModel",
      "state": {}
     },
     "b0134988f8e649f081175f2aaf17bcec": {
      "model_module": "@jupyter-widgets/base",
      "model_module_version": "1.0.0",
      "model_name": "LayoutModel",
      "state": {}
     },
     "b3cdca42a747464c93f6ed80ebf7598f": {
      "model_module": "@jupyter-widgets/controls",
      "model_module_version": "1.1.0",
      "model_name": "HBoxModel",
      "state": {
       "children": [
        "IPY_MODEL_4b82fcbffbdf471c8b10246f38b84a0b",
        "IPY_MODEL_95eecb0b3d764aae86817b6c89c01255"
       ],
       "layout": "IPY_MODEL_1c3490d0ee234b3f862f9da59c4a3255"
      }
     },
     "b41c4fa9e533464a84674bef7c8edde7": {
      "model_module": "@jupyter-widgets/controls",
      "model_module_version": "1.1.0",
      "model_name": "DescriptionStyleModel",
      "state": {
       "description_width": "initial"
      }
     },
     "b879ce3685b3483d893fdee8d579796c": {
      "model_module": "@jupyter-widgets/controls",
      "model_module_version": "1.1.0",
      "model_name": "ButtonModel",
      "state": {
       "description": "Calcular",
       "layout": "IPY_MODEL_1fd8cff6de3848a598e9ad6285fd992f",
       "style": "IPY_MODEL_25aeabb91d944257b7fb5065cc75fd19"
      }
     },
     "b8cf0ff4b6de4115bd44f242099d8284": {
      "model_module": "@jupyter-widgets/controls",
      "model_module_version": "1.1.0",
      "model_name": "ButtonStyleModel",
      "state": {}
     },
     "ba901fac1e8a4e99895b2cd1591916f8": {
      "model_module": "@jupyter-widgets/controls",
      "model_module_version": "1.1.0",
      "model_name": "HBoxModel",
      "state": {
       "children": [
        "IPY_MODEL_7583db739d514bf09081493526d0a910"
       ],
       "layout": "IPY_MODEL_6743b35b51cc45ab89511917b3da0ac0"
      }
     },
     "bcace14b02014e8cbf914ed6a028a6ab": {
      "model_module": "@jupyter-widgets/base",
      "model_module_version": "1.0.0",
      "model_name": "LayoutModel",
      "state": {}
     },
     "bec10114445846bf90efae03b226d2ec": {
      "model_module": "@jupyter-widgets/controls",
      "model_module_version": "1.1.0",
      "model_name": "ButtonModel",
      "state": {
       "description": "Calcular",
       "layout": "IPY_MODEL_5734c296d9d4433b9c31960e9e79a291",
       "style": "IPY_MODEL_5987b2cf6f30413ab2e831a4f4da4e2c"
      }
     },
     "bf618e15b8354eceb9213fecaa0b4e13": {
      "model_module": "@jupyter-widgets/base",
      "model_module_version": "1.0.0",
      "model_name": "LayoutModel",
      "state": {}
     },
     "c08c42fc2f8e4a219bea556e007edf87": {
      "model_module": "@jupyter-widgets/controls",
      "model_module_version": "1.1.0",
      "model_name": "DescriptionStyleModel",
      "state": {
       "description_width": ""
      }
     },
     "c12104e6ea814fd08cba5446af988750": {
      "model_module": "@jupyter-widgets/controls",
      "model_module_version": "1.1.0",
      "model_name": "ButtonStyleModel",
      "state": {}
     },
     "c4610db002d245baa9cbf92bc58ca92c": {
      "model_module": "@jupyter-widgets/controls",
      "model_module_version": "1.1.0",
      "model_name": "BoundedIntTextModel",
      "state": {
       "description": "r:",
       "layout": "IPY_MODEL_146cdb7f5b1f4afea1533750759bf5cf",
       "min": 1,
       "style": "IPY_MODEL_96f80d7c879c49adafccc76e45539a72",
       "value": 1
      }
     },
     "c882109da1264acb90f2bc7993ea9591": {
      "model_module": "@jupyter-widgets/base",
      "model_module_version": "1.0.0",
      "model_name": "LayoutModel",
      "state": {}
     },
     "d00a1ca54a864594b8068dd420b2b8bc": {
      "model_module": "@jupyter-widgets/base",
      "model_module_version": "1.0.0",
      "model_name": "LayoutModel",
      "state": {}
     },
     "d18568e3fe7e4a2aac3ce569c6023828": {
      "model_module": "@jupyter-widgets/controls",
      "model_module_version": "1.1.0",
      "model_name": "BoundedIntTextModel",
      "state": {
       "description": "n:",
       "layout": "IPY_MODEL_a9f3e65048bb4dc2b589c5665b7f79b9",
       "min": 2,
       "style": "IPY_MODEL_5833cc512df34f8fbe0c090c1b5182f4",
       "value": 2
      }
     },
     "d6cd49f9749f4362ac8674ee746e3f4f": {
      "model_module": "@jupyter-widgets/controls",
      "model_module_version": "1.1.0",
      "model_name": "HBoxModel",
      "state": {
       "children": [
        "IPY_MODEL_e406ad9ca27247d698aa9aea9e828f26",
        "IPY_MODEL_44ae07981be4450ea0438d564265b80a"
       ],
       "layout": "IPY_MODEL_e397be19eb224820b625123b2c37a453"
      }
     },
     "d8f44c0cc3374ab18257d52df735d374": {
      "model_module": "@jupyter-widgets/base",
      "model_module_version": "1.0.0",
      "model_name": "LayoutModel",
      "state": {}
     },
     "e34be8c7fe194622882dc02f43403ec4": {
      "model_module": "@jupyter-widgets/base",
      "model_module_version": "1.0.0",
      "model_name": "LayoutModel",
      "state": {}
     },
     "e397be19eb224820b625123b2c37a453": {
      "model_module": "@jupyter-widgets/base",
      "model_module_version": "1.0.0",
      "model_name": "LayoutModel",
      "state": {}
     },
     "e406ad9ca27247d698aa9aea9e828f26": {
      "model_module": "@jupyter-widgets/controls",
      "model_module_version": "1.1.0",
      "model_name": "BoundedIntTextModel",
      "state": {
       "description": "Número de formas del experimento:",
       "layout": "IPY_MODEL_6c438fbbc06c4a3f9f66cb2878acc11e",
       "min": 1,
       "style": "IPY_MODEL_6f90fb7afb6f4a7bab7f20af4dd25a89",
       "value": 1
      }
     },
     "e6024f3c8c5840c59cacf83bc9b52735": {
      "model_module": "@jupyter-widgets/base",
      "model_module_version": "1.0.0",
      "model_name": "LayoutModel",
      "state": {}
     },
     "ea75ada4fb184d5c8e7b94815af33142": {
      "model_module": "@jupyter-widgets/controls",
      "model_module_version": "1.1.0",
      "model_name": "HBoxModel",
      "state": {
       "children": [
        "IPY_MODEL_5a8f8d1ff98740a492189fa1bfdd0114",
        "IPY_MODEL_b879ce3685b3483d893fdee8d579796c"
       ],
       "layout": "IPY_MODEL_534ff591246c460ca74443118b6afd13"
      }
     },
     "eb3296ca5eb746e0a70e2e473bea0963": {
      "model_module": "@jupyter-widgets/base",
      "model_module_version": "1.0.0",
      "model_name": "LayoutModel",
      "state": {}
     },
     "ed2bc205cf5742f8b5704f149d96c3b6": {
      "model_module": "@jupyter-widgets/controls",
      "model_module_version": "1.1.0",
      "model_name": "HBoxModel",
      "state": {
       "children": [
        "IPY_MODEL_755d7a491c0a443d91b82d989e833c9c",
        "IPY_MODEL_9782f214627a4ba7805cd54febe31d95"
       ],
       "layout": "IPY_MODEL_bcace14b02014e8cbf914ed6a028a6ab"
      }
     },
     "fbe6d77152ba4d6cacfb811fba19a266": {
      "model_module": "@jupyter-widgets/base",
      "model_module_version": "1.0.0",
      "model_name": "LayoutModel",
      "state": {}
     },
     "ff1fbe4f4a01447897bbf0422bd49274": {
      "model_module": "@jupyter-widgets/controls",
      "model_module_version": "1.1.0",
      "model_name": "DescriptionStyleModel",
      "state": {
       "description_width": "initial"
      }
     }
    },
    "version_major": 2,
    "version_minor": 0
   }
  }
 },
 "nbformat": 4,
 "nbformat_minor": 2
}
