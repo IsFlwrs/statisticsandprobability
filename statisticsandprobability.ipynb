{
 "cells": [
  {
   "cell_type": "code",
   "execution_count": 1,
   "metadata": {
    "hide_input": true
   },
   "outputs": [],
   "source": [
    "from ipywidgets import widgets\n",
    "from math import factorial\n"
   ]
  },
  {
   "cell_type": "code",
   "execution_count": 2,
   "metadata": {
    "hide_input": true,
    "slideshow": {
     "slide_type": "subslide"
    }
   },
   "outputs": [],
   "source": [
    "def circular_permutation(number):\n",
    "    return factorial(number-1)\n",
    "\n",
    "def r_objects_taken_between_n(n, r):\n",
    "    return factorial(n) / factorial(n - r)\n",
    "\n",
    "def combinations_without_repetition(n, r):\n",
    "    return factorial(n) / (factorial(r) * factorial(n - r))\n",
    "\n",
    "def combination_with_repetition(n, r):\n",
    "    return factorial(n + r - 1) / (factorial(r) * factorial(n - 1))\n",
    "\n",
    "def additive_principle(number):\n",
    "    pass\n",
    "\n",
    "def multiplicative_principle(number):\n",
    "    pass\n",
    "\n",
    "\n"
   ]
  },
  {
   "cell_type": "markdown",
   "metadata": {
    "hide_input": true,
    "slideshow": {
     "slide_type": "-"
    }
   },
   "source": [
    "\n",
    "## Circular Permutation"
   ]
  },
  {
   "cell_type": "code",
   "execution_count": 3,
   "metadata": {
    "hide_input": true,
    "slideshow": {
     "slide_type": "-"
    }
   },
   "outputs": [
    {
     "data": {
      "application/vnd.jupyter.widget-view+json": {
       "model_id": "1cb209a70e984ac0ab1d1bb77ca90102",
       "version_major": 2,
       "version_minor": 0
      },
      "text/html": [
       "<p>Failed to display Jupyter Widget of type <code>HBox</code>.</p>\n",
       "<p>\n",
       "  If you're reading this message in the Jupyter Notebook or JupyterLab Notebook, it may mean\n",
       "  that the widgets JavaScript is still loading. If this message persists, it\n",
       "  likely means that the widgets JavaScript library is either not installed or\n",
       "  not enabled. See the <a href=\"https://ipywidgets.readthedocs.io/en/stable/user_install.html\">Jupyter\n",
       "  Widgets Documentation</a> for setup instructions.\n",
       "</p>\n",
       "<p>\n",
       "  If you're reading this message in another frontend (for example, a static\n",
       "  rendering on GitHub or <a href=\"https://nbviewer.jupyter.org/\">NBViewer</a>),\n",
       "  it may mean that your frontend doesn't currently support widgets.\n",
       "</p>\n"
      ],
      "text/plain": [
       "HBox(children=(Text(value='', description='Number', placeholder='Valid Integer'), Button(description='Submit', icon='send', style=ButtonStyle())))"
      ]
     },
     "metadata": {},
     "output_type": "display_data"
    },
    {
     "name": "stdout",
     "output_type": "stream",
     "text": [
      "362880\n",
      "362880\n",
      "362880\n",
      "24\n",
      "24\n",
      "6\n"
     ]
    }
   ],
   "source": [
    "circular_permutation_text = widgets.Text(\n",
    "    description='Number',\n",
    "    placeholder='Valid Integer'\n",
    ")\n",
    "\n",
    "circular_permutation_button = widgets.Button(\n",
    "    description='Submit',\n",
    "    icon='send'\n",
    ")\n",
    "\n",
    "\n",
    "\n",
    "display(widgets.HBox((circular_permutation_text, button)))\n",
    "\n",
    "def on_circular_permutation_text_submit(event):\n",
    "    print(circular_permutation(int(circular_permutation_text.value)))\n",
    "\n",
    "circular_permutation_button.on_click(on_circular_permutation_text_submit)"
   ]
  },
  {
   "cell_type": "markdown",
   "metadata": {},
   "source": [
    "## R objects taken from n"
   ]
  },
  {
   "cell_type": "code",
   "execution_count": 14,
   "metadata": {},
   "outputs": [
    {
     "data": {
      "application/vnd.jupyter.widget-view+json": {
       "model_id": "1f4d166b9a2842cea8dfba571a478a4d",
       "version_major": 2,
       "version_minor": 0
      },
      "text/html": [
       "<p>Failed to display Jupyter Widget of type <code>HBox</code>.</p>\n",
       "<p>\n",
       "  If you're reading this message in the Jupyter Notebook or JupyterLab Notebook, it may mean\n",
       "  that the widgets JavaScript is still loading. If this message persists, it\n",
       "  likely means that the widgets JavaScript library is either not installed or\n",
       "  not enabled. See the <a href=\"https://ipywidgets.readthedocs.io/en/stable/user_install.html\">Jupyter\n",
       "  Widgets Documentation</a> for setup instructions.\n",
       "</p>\n",
       "<p>\n",
       "  If you're reading this message in another frontend (for example, a static\n",
       "  rendering on GitHub or <a href=\"https://nbviewer.jupyter.org/\">NBViewer</a>),\n",
       "  it may mean that your frontend doesn't currently support widgets.\n",
       "</p>\n"
      ],
      "text/plain": [
       "HBox(children=(Text(value='', description='Number N', placeholder='Valid Integer'), Button(description='Submit', icon='send', style=ButtonStyle())))"
      ]
     },
     "metadata": {},
     "output_type": "display_data"
    },
    {
     "data": {
      "application/vnd.jupyter.widget-view+json": {
       "model_id": "cc42600a373047d295bd092c776326fd",
       "version_major": 2,
       "version_minor": 0
      },
      "text/html": [
       "<p>Failed to display Jupyter Widget of type <code>Text</code>.</p>\n",
       "<p>\n",
       "  If you're reading this message in the Jupyter Notebook or JupyterLab Notebook, it may mean\n",
       "  that the widgets JavaScript is still loading. If this message persists, it\n",
       "  likely means that the widgets JavaScript library is either not installed or\n",
       "  not enabled. See the <a href=\"https://ipywidgets.readthedocs.io/en/stable/user_install.html\">Jupyter\n",
       "  Widgets Documentation</a> for setup instructions.\n",
       "</p>\n",
       "<p>\n",
       "  If you're reading this message in another frontend (for example, a static\n",
       "  rendering on GitHub or <a href=\"https://nbviewer.jupyter.org/\">NBViewer</a>),\n",
       "  it may mean that your frontend doesn't currently support widgets.\n",
       "</p>\n"
      ],
      "text/plain": [
       "Text(value='', description='Number R', placeholder='Valid Integer')"
      ]
     },
     "metadata": {},
     "output_type": "display_data"
    },
    {
     "name": "stdout",
     "output_type": "stream",
     "text": [
      "90.0\n"
     ]
    }
   ],
   "source": [
    "r_objects_taken_between_n(10,2)\n",
    "r_objects_taken_between_text_n = widgets.Text(\n",
    "    description='Number N',\n",
    "    placeholder='Valid Integer'\n",
    ")\n",
    "r_objects_taken_between_text_r = widgets.Text(\n",
    "    description='Number R',\n",
    "    placeholder='Valid Integer'\n",
    ")\n",
    "r_objects_taken_between_button = widgets.Button(\n",
    "    description='Submit',\n",
    "    icon='send'\n",
    ")\n",
    "display(widgets.HBox((r_objects_taken_between_text_n, r_objects_taken_between_button)))\n",
    "display(r_objects_taken_between_text_r)\n",
    "\n",
    "def r_objects_taken_between_submit(event):\n",
    "    print(r_objects_taken_between_n(int(r_objects_taken_between_text_n.value), int(r_objects_taken_between_text_r.value)))\n",
    "\n",
    "r_objects_taken_between_button.on_click(r_objects_taken_between_submit)"
   ]
  },
  {
   "cell_type": "markdown",
   "metadata": {},
   "source": [
    "## Combinations without Repetition"
   ]
  },
  {
   "cell_type": "code",
   "execution_count": null,
   "metadata": {},
   "outputs": [],
   "source": [
    "combinations_without_repetition(16,3)"
   ]
  },
  {
   "cell_type": "code",
   "execution_count": null,
   "metadata": {},
   "outputs": [],
   "source": []
  },
  {
   "cell_type": "markdown",
   "metadata": {},
   "source": [
    "## Combinations with Repetition"
   ]
  },
  {
   "cell_type": "code",
   "execution_count": null,
   "metadata": {},
   "outputs": [],
   "source": [
    "combination_with_repetition(5,3)"
   ]
  },
  {
   "cell_type": "markdown",
   "metadata": {},
   "source": []
  },
  {
   "cell_type": "code",
   "execution_count": null,
   "metadata": {},
   "outputs": [],
   "source": []
  },
  {
   "cell_type": "code",
   "execution_count": null,
   "metadata": {},
   "outputs": [],
   "source": [
    "print (2)"
   ]
  }
 ],
 "metadata": {
  "celltoolbar": "Slideshow",
  "hide_input": false,
  "kernelspec": {
   "display_name": "Python 3",
   "language": "python",
   "name": "python3"
  },
  "language_info": {
   "codemirror_mode": {
    "name": "ipython",
    "version": 3
   },
   "file_extension": ".py",
   "mimetype": "text/x-python",
   "name": "python",
   "nbconvert_exporter": "python",
   "pygments_lexer": "ipython3",
   "version": "3.5.2"
  }
 },
 "nbformat": 4,
 "nbformat_minor": 2
}
