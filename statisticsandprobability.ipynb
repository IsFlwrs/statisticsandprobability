{
 "cells": [
  {
   "cell_type": "code",
   "execution_count": 1,
   "metadata": {},
   "outputs": [],
   "source": [
    "from functools import reduce\n",
    "\n",
    "# Factorial Notation\n",
    "def factorial(n):return reduce(lambda x,y:x*y,range(1,n+1))\n",
    "\n",
    "# Circular Permutation\n",
    "def circular_permutation(n): return factorial(n-1)\n",
    "\n",
    "# Permutation of different objects taken from r in r\n",
    "def permutation_different_objects_taken_r_in_r(n, r): return factorial(n) / factorial(n-r)\n",
    "\n",
    "# Permutations with repetition of n elemntos taken from r to r\n",
    "def permutation_different_objects_taken_r_in_r_with_repetition(n, r): return n**r\n",
    "\n",
    "# Multiplicative Principle\n",
    "def multiplicative_principle(n_array): return reduce((lambda x, y: x + y), [x[0]*x[1] for x in n_array])\n",
    "\n",
    "# Combinations\n",
    "def combination(n, r): return factorial(1) / factorial(n-r) * factorial(r)\n",
    "\n",
    "# Classic Probability Approach\n",
    "def classic_probability_approach(times_event_occurs, total_of_events): return times_event_occurs / total_of_events\n",
    "\n",
    "# Empirical Probability Approach\n",
    "def empirical_probability_approach(times_event_occurs, total_of_events): return times_event_occurs / total_of_events\n",
    "\n",
    "# General addition rule\n",
    "def general_addition_rule(a_probability, b_probability, a_n_b_probability): return a_probability + b_probability - a_n_b_probability\n",
    "\n",
    "# Conditional Probability\n",
    "def conditional_probability(b_probability, a_n_b_probability): return a_n_b_probability / b_probability\n",
    "\n",
    "# General multiplication rule\n",
    "def general_multiplication_rule(a_l_b_probability, b_probability): return b_probability * a_l_b_probability\n",
    "\n",
    "# Total probability\n",
    "def total_probability(): pass\n",
    "\n",
    "# Bayes Theorem\n",
    "def bayes_theorem(a_probability, b_probability, a_l_b_probability): return (a_probability * a_l_b_probability) / b_probability\n",
    "\n",
    "# Mode\n",
    "def mode(): pass\n",
    "\n",
    "# Mean\n",
    "def mean(): pass\n",
    "\n",
    "# Median\n",
    "def median(): pass\n",
    "\n",
    "# Range\n",
    "def range(): pass\n",
    "\n",
    "# Variance\n",
    "def variance(): pass\n",
    "\n",
    "# Standar Deviation\n",
    "def standar_deviation(): pass\n",
    "\n",
    "# Variation Coefficient\n",
    "def variation_coefficient(): pass\n",
    "\n",
    "# Frequency table"
   ]
  },
  {
   "cell_type": "markdown",
   "metadata": {
    "hide_input": true
   },
   "source": [
    "# Probabilidad y Estadística\n",
    "\n",
    "* [Notación Factorial](#factorialNotation)\n",
    "* [Permutación Circular](#circularPermutation)\n",
    "* [Permutación de Objetos distintos tomados de r en r](#permuationRinR)\n",
    "* [Permutaciones con repetición de n elemntos tomados de r en r](#permuationRinRwithRepetition)\n",
    "* [Principio Multiplicativo](#multiplicativePrinciple)\n",
    "* [Combinaciones](#combination)\n",
    "* [Enfoque de probablidad clásico](#classicProbabilityApproach)\n",
    "* [Enfoque de probablidad empírico](#empiricalProbabilityApproach)\n",
    "* [Regla general de adición](#generalRuleofAddition)\n",
    "* [Probabilidad condicional](#conditionalProbability)\n",
    "* [Regla general de multiplicación](#generalRuleofMultiplication)\n",
    "* [Probabilidad total](#totalProbability)\n",
    "* [Teorema de Bayes](#bayesTheorem)\n",
    "\n",
    "## Medidas de tendencia central para datos no agrupados\n",
    "* [Moda](#mode)\n",
    "* [Media](#mean)\n",
    "* [Mediana](#median)\n",
    "\n",
    "## Medidas de dispersión\n",
    "* [Rango](#range)\n",
    "* [Varianza](#variance)\n",
    "* [Desviación estándar](#standardDeviation)\n",
    "* [Coeficiente de variación](#coefficientofVariation)\n",
    "\n",
    "## Tabla de frecuencias\n"
   ]
  },
  {
   "cell_type": "markdown",
   "metadata": {},
   "source": [
    "<div id='factorialNotation'></div>\n",
    "### Notación Factorial"
   ]
  },
  {
   "cell_type": "code",
   "execution_count": 4,
   "metadata": {},
   "outputs": [],
   "source": []
  },
  {
   "cell_type": "code",
   "execution_count": 5,
   "metadata": {},
   "outputs": [
    {
     "data": {
      "text/plain": [
       "120"
      ]
     },
     "execution_count": 5,
     "metadata": {},
     "output_type": "execute_result"
    }
   ],
   "source": [
    "factorial(5)"
   ]
  },
  {
   "cell_type": "markdown",
   "metadata": {},
   "source": [
    "<div id='circularPermutation'></div>\n",
    "### Permutación Circular"
   ]
  },
  {
   "cell_type": "markdown",
   "metadata": {},
   "source": [
    "<div id='permuationRinR'></div>\n",
    "### Permutación de Objetos distintos tomados de r en r"
   ]
  },
  {
   "cell_type": "markdown",
   "metadata": {},
   "source": [
    "<div id='permuationRinRwithRepetition'></div>\n",
    "### Permutaciones con repetición de n elemntos tomados de r en r"
   ]
  },
  {
   "cell_type": "markdown",
   "metadata": {},
   "source": [
    "<div id='multiplicativePrinciple'></div>\n",
    "### Principio Multiplicativo"
   ]
  },
  {
   "cell_type": "markdown",
   "metadata": {},
   "source": [
    "<div id='combination'></div>\n",
    "### Combinaciones"
   ]
  },
  {
   "cell_type": "markdown",
   "metadata": {},
   "source": [
    "<div id='classicProbabilityApproach'></div>\n",
    "### Enfoque de probabilidad clásico"
   ]
  },
  {
   "cell_type": "markdown",
   "metadata": {},
   "source": [
    "<div id='empiricalProbabilityApproach'></div>\n",
    "### Enfoque de probabilidad empírico"
   ]
  },
  {
   "cell_type": "markdown",
   "metadata": {},
   "source": [
    "<div id='generalRuleofAddition'></div>\n",
    "### Regla general de adición"
   ]
  },
  {
   "cell_type": "markdown",
   "metadata": {},
   "source": [
    "<div id='conditionalProbability'></div>\n",
    "### Probabilidad condicional"
   ]
  },
  {
   "cell_type": "markdown",
   "metadata": {},
   "source": [
    "<div id='generalRuleofMultiplication'></div>\n",
    "### Regla general de multiplicación"
   ]
  },
  {
   "cell_type": "markdown",
   "metadata": {},
   "source": [
    "<div id='totalProbability'></div>\n",
    "### Probabilidad total"
   ]
  },
  {
   "cell_type": "markdown",
   "metadata": {},
   "source": [
    "<div id='bayesTheorem'></div>\n",
    "### Teorema de Bayes"
   ]
  },
  {
   "cell_type": "markdown",
   "metadata": {},
   "source": [
    "<div id='mode'></div>\n",
    "### Moda"
   ]
  },
  {
   "cell_type": "markdown",
   "metadata": {},
   "source": [
    "<div id='mean'></div>\n",
    "### Media"
   ]
  },
  {
   "cell_type": "markdown",
   "metadata": {},
   "source": [
    "<div id='median'></div>\n",
    "### Mediana"
   ]
  },
  {
   "cell_type": "markdown",
   "metadata": {},
   "source": [
    "<div id='range'></div>\n",
    "### Rango"
   ]
  },
  {
   "cell_type": "markdown",
   "metadata": {},
   "source": [
    "<div id='variance'></div>\n",
    "### Varianza"
   ]
  },
  {
   "cell_type": "markdown",
   "metadata": {},
   "source": [
    "<div id='standardDeviation'></div>\n",
    "### Desviación estándar"
   ]
  },
  {
   "cell_type": "markdown",
   "metadata": {},
   "source": [
    "<div id='coefficientofVariation'></div>\n",
    "### Coeficiente de variación"
   ]
  },
  {
   "cell_type": "markdown",
   "metadata": {},
   "source": [
    "<div id='frequencyTable'></div>\n",
    "### Tabla de frecuencias"
   ]
  }
 ],
 "metadata": {
  "hide_input": false,
  "kernelspec": {
   "display_name": "Python 3",
   "language": "python",
   "name": "python3"
  },
  "language_info": {
   "codemirror_mode": {
    "name": "ipython",
    "version": 3
   },
   "file_extension": ".py",
   "mimetype": "text/x-python",
   "name": "python",
   "nbconvert_exporter": "python",
   "pygments_lexer": "ipython3",
   "version": "3.5.2"
  }
 },
 "nbformat": 4,
 "nbformat_minor": 2
}
